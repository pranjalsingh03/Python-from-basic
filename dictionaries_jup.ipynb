{
 "cells": [
  {
   "cell_type": "code",
   "execution_count": 1,
   "metadata": {},
   "outputs": [
    {
     "name": "stdout",
     "output_type": "stream",
     "text": [
      "7\n"
     ]
    }
   ],
   "source": [
    "person = {\n",
    "    'first_name':'Pranjal',\n",
    "    'last_name':'Singh',\n",
    "    'age':18,\n",
    "    'country':'India',\n",
    "    'is_marred':False,\n",
    "    'skills':['JavaScript', 'React', 'CSS', 'HTML', 'Python'],\n",
    "    'address':{\n",
    "        'street':'Gorakhpur',\n",
    "        'zipcode':'274207'\n",
    "    }\n",
    "    }\n",
    "print(len(person))"
   ]
  },
  {
   "cell_type": "code",
   "execution_count": 2,
   "metadata": {},
   "outputs": [
    {
     "name": "stdout",
     "output_type": "stream",
     "text": [
      "value1\n",
      "value4\n"
     ]
    }
   ],
   "source": [
    "dct = {'key1':'value1', 'key2':'value2', 'key3':'value3', 'key4':'value4'}\n",
    "print(dct['key1'])\n",
    "print(dct['key4'])"
   ]
  },
  {
   "cell_type": "code",
   "execution_count": 5,
   "metadata": {},
   "outputs": [
    {
     "name": "stdout",
     "output_type": "stream",
     "text": [
      "Pranjal\n",
      "India\n",
      "['JavaScript', 'React', 'CSS', 'HTML', 'Python']\n",
      "JavaScript\n",
      "Gorakhpur\n"
     ]
    }
   ],
   "source": [
    "person = {\n",
    "    'first_name':'Pranjal',\n",
    "    'last_name':'Singh',\n",
    "    'age':18,\n",
    "    'country':'India',\n",
    "    'is_marred':False,\n",
    "    'skills':['JavaScript', 'React', 'CSS', 'HTML', 'Python'],\n",
    "    'address':{\n",
    "        'street':'Gorakhpur',\n",
    "        'zipcode':'274207'\n",
    "    }\n",
    "    }\n",
    "\n",
    "print(person['first_name']) \n",
    "print(person['country'])    \n",
    "print(person['skills'])     \n",
    "print(person['skills'][0])  \n",
    "print(person['address']['street']) \n",
    "#print(person['city']) #Error "
   ]
  },
  {
   "cell_type": "code",
   "execution_count": 6,
   "metadata": {},
   "outputs": [
    {
     "name": "stdout",
     "output_type": "stream",
     "text": [
      "Pranjal\n",
      "India\n",
      "['JavaScript', 'React', 'CSS', 'HTML', 'Python']\n",
      "None\n"
     ]
    }
   ],
   "source": [
    "person = {\n",
    "    'first_name':'Pranjal',\n",
    "    'last_name':'Singh',\n",
    "    'age':18,\n",
    "    'country':'India',\n",
    "    'is_marred':False,\n",
    "    'skills':['JavaScript', 'React', 'CSS', 'HTML', 'Python'],\n",
    "    'address':{\n",
    "        'street':'Gorakhpur',\n",
    "        'zipcode':'274207'\n",
    "    }\n",
    "    }\n",
    "print(person.get('first_name'))\n",
    "print(person.get('country'))    \n",
    "print(person.get('skills')) \n",
    "print(person.get('city'))"
   ]
  },
  {
   "cell_type": "code",
   "execution_count": 7,
   "metadata": {},
   "outputs": [],
   "source": [
    "dct = {'key1':'value1', 'key2':'value2', 'key3':'value3', 'key4':'value4'}\n",
    "dct['key5'] = 'value5'"
   ]
  },
  {
   "cell_type": "code",
   "execution_count": 9,
   "metadata": {},
   "outputs": [
    {
     "name": "stdout",
     "output_type": "stream",
     "text": [
      "Eyob\n"
     ]
    }
   ],
   "source": [
    "person = {\n",
    "    'first_name':'Pranjal',\n",
    "    'last_name':'Singh',\n",
    "    'age':18,\n",
    "    'country':'India',\n",
    "    'is_marred':False,\n",
    "    'skills':['JavaScript', 'React', 'CSS', 'HTML', 'Python'],\n",
    "    'address':{\n",
    "        'street':'Gorakhpur',\n",
    "        'zipcode':'274207'\n",
    "    }\n",
    "    }\n",
    "person['first_name'] = 'Magan'\n",
    "person['age'] = 19\n",
    "print(person['first_name'])"
   ]
  }
 ],
 "metadata": {
  "kernelspec": {
   "display_name": "Python 3",
   "language": "python",
   "name": "python3"
  },
  "language_info": {
   "codemirror_mode": {
    "name": "ipython",
    "version": 3
   },
   "file_extension": ".py",
   "mimetype": "text/x-python",
   "name": "python",
   "nbconvert_exporter": "python",
   "pygments_lexer": "ipython3",
   "version": "3.10.9"
  },
  "orig_nbformat": 4,
  "vscode": {
   "interpreter": {
    "hash": "ff1631331354c61d46ec5fef20a28398bfe73aa06e983173af77dc044e4e3d07"
   }
  }
 },
 "nbformat": 4,
 "nbformat_minor": 2
}
