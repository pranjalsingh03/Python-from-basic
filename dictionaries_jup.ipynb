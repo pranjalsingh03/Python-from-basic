{
 "cells": [
  {
   "cell_type": "code",
   "execution_count": null,
   "metadata": {},
   "outputs": [],
   "source": [
    "person = {\n",
    "    'first_name':'Pranjal',\n",
    "    'last_name':'Singh',\n",
    "    'age':18,\n",
    "    'country':'India',\n",
    "    'is_marred':False,\n",
    "    'skills':['JavaScript', 'React', 'CSS', 'HTML', 'Python'],\n",
    "    'address':{\n",
    "        'street':'Gorakhpur',\n",
    "        'zipcode':'274207'\n",
    "    }\n",
    "    }\n",
    "print(len(person))"
   ]
  },
  {
   "cell_type": "code",
   "execution_count": null,
   "metadata": {},
   "outputs": [],
   "source": []
  }
 ],
 "metadata": {
  "kernelspec": {
   "display_name": "Python 3",
   "language": "python",
   "name": "python3"
  },
  "language_info": {
   "name": "python",
   "version": "3.10.9 (tags/v3.10.9:1dd9be6, Dec  6 2022, 20:01:21) [MSC v.1934 64 bit (AMD64)]"
  },
  "orig_nbformat": 4,
  "vscode": {
   "interpreter": {
    "hash": "ff1631331354c61d46ec5fef20a28398bfe73aa06e983173af77dc044e4e3d07"
   }
  }
 },
 "nbformat": 4,
 "nbformat_minor": 2
}
